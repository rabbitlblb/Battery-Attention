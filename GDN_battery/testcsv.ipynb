{
 "cells": [
  {
   "cell_type": "code",
   "execution_count": 13,
   "metadata": {},
   "outputs": [],
   "source": [
    "import pandas as pd\n",
    "import numpy as np\n",
    "import os"
   ]
  },
  {
   "cell_type": "code",
   "execution_count": 14,
   "metadata": {},
   "outputs": [],
   "source": [
    "for fold_num in range(5):\n",
    "    df = pd.read_csv(f'/nfs/nfs-home/rabbitlb/Battery_Fault_Detection/GDN_battery/rec_error/gdn_saved_rec_error_fold{fold_num}.csv')\n",
    "    \n",
    "    car_number = []\n",
    "    for i in range(1, 7):\n",
    "        ind_ood_car_dict = np.load(f'../five_fold_utils/ind_odd_dict{i}.npz.npy', allow_pickle=True).item()\n",
    "        ind_car_num_list = ind_ood_car_dict['ind_sorted']\n",
    "        ood_car_num_list = ind_ood_car_dict['ood_sorted']\n",
    "        car_number += ind_car_num_list[\n",
    "                            int(fold_num * len(ind_car_num_list) / 5):int((fold_num + 1) * len(ind_car_num_list) / 5)] + ood_car_num_list\n",
    "    \n",
    "    df['car'] = df['car'].astype(str)\n",
    "    df_test = df[df['car'].isin(car_number)]\n",
    "    \n",
    "    os.makedirs('/nfs/nfs-home/rabbitlb/Battery_Fault_Detection/GDN_battery/GDN', exist_ok=True)\n",
    "    df_test.to_csv(f'/nfs/nfs-home/rabbitlb/Battery_Fault_Detection/GDN_battery/GDN/gdn_test_rec_error_fold{fold_num}.csv', index=False)"
   ]
  }
 ],
 "metadata": {
  "kernelspec": {
   "display_name": "base",
   "language": "python",
   "name": "python3"
  },
  "language_info": {
   "codemirror_mode": {
    "name": "ipython",
    "version": 3
   },
   "file_extension": ".py",
   "mimetype": "text/x-python",
   "name": "python",
   "nbconvert_exporter": "python",
   "pygments_lexer": "ipython3",
   "version": "3.11.5"
  }
 },
 "nbformat": 4,
 "nbformat_minor": 2
}
