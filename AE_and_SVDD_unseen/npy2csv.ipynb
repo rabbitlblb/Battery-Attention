{
 "cells": [
  {
   "cell_type": "code",
   "execution_count": null,
   "metadata": {},
   "outputs": [],
   "source": [
    "import numpy as np\n",
    "import pandas as pd\n",
    "from tqdm import tqdm\n",
    "import os"
   ]
  },
  {
   "cell_type": "code",
   "execution_count": null,
   "metadata": {},
   "outputs": [],
   "source": [
    "for fold_num in range(5):\n",
    "    car = []\n",
    "    ytest = [i[0] for i in np.load(f'/root/Battery/AE_and_SVDD/traditional_save/auto_encoder_normalize_fold{fold_num}_y_test.npy')]\n",
    "    label = []\n",
    "    score = np.load(f'/root/Battery/AE_and_SVDD/traditional_save/auto_encoder_normalize_fold{fold_num}_y_test_scores.npy')\n",
    "    \n",
    "    test_car_number = []\n",
    "    for i in range(1, 7):\n",
    "        ind_ood_car_dict = np.load(f'../five_fold_utils/ind_odd_dict{i}.npz.npy', allow_pickle=True).item()\n",
    "        ind_car_num_list = ind_ood_car_dict['ind_sorted']\n",
    "        # self.ind_car_num_list = [2, 193, 45, 73, 354]  # used for debug\n",
    "        # self.ind_car_num_list = np.load(all_car_dict_path, allow_pickle=True).item()\n",
    "        ood_car_num_list = ind_ood_car_dict['ood_sorted']\n",
    "        test_car_number += ind_car_num_list[\n",
    "                        int(fold_num * len(ind_car_num_list) / 5):int((fold_num + 1) * len(ind_car_num_list) / 5)] + ood_car_num_list\n",
    "    \n",
    "    \n",
    "    \n",
    "    ind_ood_car_dict = np.load(f'../five_fold_utils/ind_odd_dict_all.npz.npy', allow_pickle=True).item()\n",
    "    ind_car_num_list = ind_ood_car_dict['ind_sorted']\n",
    "    all_car_dict = np.load('../five_fold_utils/all_car_dict.npz.npy', allow_pickle=True).item()\n",
    "    for each_num in test_car_number:\n",
    "        car += [each_num] * len(all_car_dict[each_num])\n",
    "        label += [0 if each_num in ind_car_num_list else 1] * len(all_car_dict[each_num])\n",
    "    \n",
    "    assert label == ytest\n",
    "    \n",
    "    df = df = pd.DataFrame({'car': car, 'label': label, 'rec_error': score})\n",
    "    os.makedirs('/root/Battery/AE_and_SVDD/AE', exist_ok=True)\n",
    "    df.to_csv(f'/root/Battery/AE_and_SVDD/AE/auto_encoder_normalize_fold{fold_num}_rec_error.csv', index=False)"
   ]
  }
 ],
 "metadata": {
  "language_info": {
   "name": "python"
  }
 },
 "nbformat": 4,
 "nbformat_minor": 2
}
